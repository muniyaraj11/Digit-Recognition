{
  "nbformat": 4,
  "nbformat_minor": 0,
  "metadata": {
    "colab": {
      "provenance": []
    },
    "kernelspec": {
      "name": "python3",
      "display_name": "Python 3"
    },
    "language_info": {
      "name": "python"
    }
  },
  "cells": [
    {
      "cell_type": "code",
      "execution_count": 1,
      "metadata": {
        "id": "oMfGxxLq0Rwk",
        "colab": {
          "base_uri": "https://localhost:8080/"
        },
        "outputId": "79d74981-12db-4138-97f9-7d55d538632e"
      },
      "outputs": [
        {
          "output_type": "stream",
          "name": "stdout",
          "text": [
            "Done\n"
          ]
        }
      ],
      "source": [
        "from zipfile import ZipFile\n",
        "file_name = \"Flowers.zip\"\n",
        "\n",
        "with ZipFile(file_name,'r') as zip:\n",
        "  zip.extractall()\n",
        "  print('Done')"
      ]
    },
    {
      "cell_type": "code",
      "source": [
        "from tensorflow.keras.preprocessing.image import ImageDataGenerator"
      ],
      "metadata": {
        "id": "JU2ge5WvWz-Z"
      },
      "execution_count": 2,
      "outputs": []
    },
    {
      "cell_type": "code",
      "source": [
        "train_datagen=ImageDataGenerator(rescale=1./255,horizontal_flip=True,vertical_flip=True,zoom_range=0.2)"
      ],
      "metadata": {
        "id": "cEOx6jbGYz3M"
      },
      "execution_count": 3,
      "outputs": []
    },
    {
      "cell_type": "code",
      "source": [
        "test_datagen=ImageDataGenerator(rescale=1./255)"
      ],
      "metadata": {
        "id": "gfbvhjyQY7Zy"
      },
      "execution_count": 4,
      "outputs": []
    },
    {
      "cell_type": "code",
      "source": [
        "x_train=train_datagen.flow_from_directory(r\"/content/flowers\",target_size=(64,64),\n",
        "                                                            class_mode=\"categorical\",batch_size=24)"
      ],
      "metadata": {
        "colab": {
          "base_uri": "https://localhost:8080/"
        },
        "id": "fXCCWkqdZazz",
        "outputId": "becd25de-e13e-4b88-a38c-fbcce74b18e2"
      },
      "execution_count": 5,
      "outputs": [
        {
          "output_type": "stream",
          "name": "stdout",
          "text": [
            "Found 4317 images belonging to 5 classes.\n"
          ]
        }
      ]
    },
    {
      "cell_type": "code",
      "source": [
        "x_test=test_datagen.flow_from_directory(r\"/content/flowers\",target_size=(64,64),\n",
        "                                                            class_mode=\"categorical\",batch_size=24)"
      ],
      "metadata": {
        "colab": {
          "base_uri": "https://localhost:8080/"
        },
        "id": "M-QPek4EZkO-",
        "outputId": "353bc301-56fd-4148-a3b7-85d8e361ca0e"
      },
      "execution_count": 6,
      "outputs": [
        {
          "output_type": "stream",
          "name": "stdout",
          "text": [
            "Found 4317 images belonging to 5 classes.\n"
          ]
        }
      ]
    },
    {
      "cell_type": "code",
      "source": [
        "from tensorflow.keras.models import Sequential"
      ],
      "metadata": {
        "id": "IuxH1xZzZtth"
      },
      "execution_count": 7,
      "outputs": []
    },
    {
      "cell_type": "code",
      "source": [
        "from tensorflow.keras.layers import Convolution2D,MaxPooling2D,Flatten,Dense"
      ],
      "metadata": {
        "id": "te1LbPrCZxlV"
      },
      "execution_count": 8,
      "outputs": []
    },
    {
      "cell_type": "code",
      "source": [
        "model=Sequential()"
      ],
      "metadata": {
        "id": "_AwaJK6aZ2og"
      },
      "execution_count": 9,
      "outputs": []
    },
    {
      "cell_type": "code",
      "source": [
        "model.add(Convolution2D(32,(3,3),activation=\"relu\",input_shape=(64,64,3)))"
      ],
      "metadata": {
        "id": "utlTSs-UZ9zn"
      },
      "execution_count": 10,
      "outputs": []
    },
    {
      "cell_type": "code",
      "source": [
        "model.add(MaxPooling2D(pool_size=(2,2)))"
      ],
      "metadata": {
        "id": "6E3BwgGnaJvV"
      },
      "execution_count": 11,
      "outputs": []
    },
    {
      "cell_type": "code",
      "source": [
        "model.add(Flatten())"
      ],
      "metadata": {
        "id": "n83NBQdvaMWy"
      },
      "execution_count": 12,
      "outputs": []
    },
    {
      "cell_type": "code",
      "source": [
        "model.add(Dense(300,activation='relu'))"
      ],
      "metadata": {
        "id": "O9R6urIJaTnG"
      },
      "execution_count": 13,
      "outputs": []
    },
    {
      "cell_type": "code",
      "source": [
        "model.add(Dense(5,activation=\"softmax\"))"
      ],
      "metadata": {
        "id": "LAPNphH_aTj7"
      },
      "execution_count": 14,
      "outputs": []
    },
    {
      "cell_type": "code",
      "source": [
        "model.compile(loss=\"categorical_crossentropy\",metrics=[\"accuracy\"],optimizer='adam')"
      ],
      "metadata": {
        "id": "GDjeeGRLaThJ"
      },
      "execution_count": 15,
      "outputs": []
    },
    {
      "cell_type": "code",
      "source": [
        "len(x_train)"
      ],
      "metadata": {
        "colab": {
          "base_uri": "https://localhost:8080/"
        },
        "id": "chf0fgjjaS_Q",
        "outputId": "8d7a3fda-bffd-4e07-ac74-4419329072dc"
      },
      "execution_count": 16,
      "outputs": [
        {
          "output_type": "execute_result",
          "data": {
            "text/plain": [
              "180"
            ]
          },
          "metadata": {},
          "execution_count": 16
        }
      ]
    },
    {
      "cell_type": "code",
      "source": [
        "model.fit(x_train,epochs=5,validation_data=x_test,steps_per_epoch=len(x_train),validation_steps=len(x_test))"
      ],
      "metadata": {
        "colab": {
          "base_uri": "https://localhost:8080/"
        },
        "id": "-X_E23JeaS8A",
        "outputId": "5159b4fc-469e-47fe-f1d0-145fd7f5da21"
      },
      "execution_count": 17,
      "outputs": [
        {
          "output_type": "stream",
          "name": "stdout",
          "text": [
            "Epoch 1/5\n",
            "180/180 [==============================] - 54s 298ms/step - loss: 1.3220 - accuracy: 0.4668 - val_loss: 1.2061 - val_accuracy: 0.5122\n",
            "Epoch 2/5\n",
            "180/180 [==============================] - 53s 295ms/step - loss: 1.0653 - accuracy: 0.5786 - val_loss: 0.9477 - val_accuracy: 0.6356\n",
            "Epoch 3/5\n",
            "180/180 [==============================] - 53s 294ms/step - loss: 0.9784 - accuracy: 0.6199 - val_loss: 0.9267 - val_accuracy: 0.6384\n",
            "Epoch 4/5\n",
            "180/180 [==============================] - 52s 290ms/step - loss: 0.9117 - accuracy: 0.6414 - val_loss: 0.9106 - val_accuracy: 0.6599\n",
            "Epoch 5/5\n",
            "180/180 [==============================] - 53s 292ms/step - loss: 0.8814 - accuracy: 0.6555 - val_loss: 0.9323 - val_accuracy: 0.6521\n"
          ]
        },
        {
          "output_type": "execute_result",
          "data": {
            "text/plain": [
              "<keras.callbacks.History at 0x7f9b8c102590>"
            ]
          },
          "metadata": {},
          "execution_count": 17
        }
      ]
    },
    {
      "cell_type": "code",
      "source": [
        "model.save(\"dandelion.h5\")"
      ],
      "metadata": {
        "id": "C8pfYU_7aS48"
      },
      "execution_count": 18,
      "outputs": []
    },
    {
      "cell_type": "code",
      "source": [
        "from tensorflow.keras.models import load_model\n",
        "from tensorflow.keras.preprocessing import image \n",
        "import numpy as np"
      ],
      "metadata": {
        "id": "mZ69JMOAaSs9"
      },
      "execution_count": 19,
      "outputs": []
    },
    {
      "cell_type": "code",
      "source": [
        "model=load_model(\"/content/daisy.h5\")"
      ],
      "metadata": {
        "id": "MnIsvvKfaSef"
      },
      "execution_count": 20,
      "outputs": []
    },
    {
      "cell_type": "code",
      "source": [
        "img=image.load_img(\"/content/flowers/daisy/10437770546_8bb6f7bdd3_m.jpg\",target_size=(64,64))"
      ],
      "metadata": {
        "id": "yRRvYoGgb3NL"
      },
      "execution_count": 21,
      "outputs": []
    },
    {
      "cell_type": "code",
      "source": [
        "img"
      ],
      "metadata": {
        "colab": {
          "base_uri": "https://localhost:8080/",
          "height": 81
        },
        "id": "MJqN2_iJb3JX",
        "outputId": "c26a7059-af03-4d01-9a5a-29f661702c5f"
      },
      "execution_count": 22,
      "outputs": [
        {
          "output_type": "execute_result",
          "data": {
            "text/plain": [
              "<PIL.Image.Image image mode=RGB size=64x64 at 0x7F9B853825D0>"
            ],
            "image/png": "[encoded data removed]"
          },
          "metadata": {},
          "execution_count": 22
        }
      ]
    },
    {
      "cell_type": "code",
      "source": [
        "x=image.img_to_array(img)"
      ],
      "metadata": {
        "id": "-6yQCpfpb3D6"
      },
      "execution_count": 23,
      "outputs": []
    },
    {
      "cell_type": "code",
      "source": [
        "x"
      ],
      "metadata": {
        "colab": {
          "base_uri": "https://localhost:8080/"
        },
        "id": "lUa42xjdb29q",
        "outputId": "eab015d3-dc94-4305-e72b-92f2693a7084"
      },
      "execution_count": 24,
      "outputs": [
        {
          "output_type": "execute_result",
          "data": {
            "text/plain": [
              "array([[[25., 25., 25.],\n",
              "        [29., 29., 29.],\n",
              "        [34., 34., 34.],\n",
              "        ...,\n",
              "        [32., 32., 32.],\n",
              "        [31., 31., 31.],\n",
              "        [31., 31., 31.]],\n",
              "\n",
              "       [[26., 26., 26.],\n",
              "        [30., 30., 30.],\n",
              "        [35., 35., 35.],\n",
              "        ...,\n",
              "        [34., 34., 34.],\n",
              "        [33., 33., 33.],\n",
              "        [32., 32., 32.]],\n",
              "\n",
              "       [[27., 27., 27.],\n",
              "        [31., 31., 31.],\n",
              "        [35., 35., 35.],\n",
              "        ...,\n",
              "        [34., 34., 34.],\n",
              "        [35., 35., 35.],\n",
              "        [34., 34., 34.]],\n",
              "\n",
              "       ...,\n",
              "\n",
              "       [[17., 17., 17.],\n",
              "        [19., 19., 19.],\n",
              "        [22., 22., 22.],\n",
              "        ...,\n",
              "        [ 0.,  0.,  0.],\n",
              "        [ 0.,  0.,  0.],\n",
              "        [ 0.,  0.,  0.]],\n",
              "\n",
              "       [[16., 16., 16.],\n",
              "        [18., 18., 18.],\n",
              "        [22., 22., 22.],\n",
              "        ...,\n",
              "        [ 0.,  0.,  0.],\n",
              "        [ 0.,  0.,  0.],\n",
              "        [ 0.,  0.,  0.]],\n",
              "\n",
              "       [[16., 16., 16.],\n",
              "        [18., 18., 18.],\n",
              "        [21., 21., 21.],\n",
              "        ...,\n",
              "        [ 0.,  0.,  0.],\n",
              "        [ 0.,  0.,  0.],\n",
              "        [ 0.,  0.,  0.]]], dtype=float32)"
            ]
          },
          "metadata": {},
          "execution_count": 24
        }
      ]
    },
    {
      "cell_type": "code",
      "source": [
        "x.ndim"
      ],
      "metadata": {
        "colab": {
          "base_uri": "https://localhost:8080/"
        },
        "id": "fNp4HHdcb26S",
        "outputId": "43c2754f-5da5-47f8-a626-14c197884cf4"
      },
      "execution_count": 25,
      "outputs": [
        {
          "output_type": "execute_result",
          "data": {
            "text/plain": [
              "3"
            ]
          },
          "metadata": {},
          "execution_count": 25
        }
      ]
    },
    {
      "cell_type": "code",
      "source": [
        "x=np.expand_dims(x,axis=0)"
      ],
      "metadata": {
        "id": "EZX7zfmbb22x"
      },
      "execution_count": 26,
      "outputs": []
    },
    {
      "cell_type": "code",
      "source": [
        "x.ndim"
      ],
      "metadata": {
        "colab": {
          "base_uri": "https://localhost:8080/"
        },
        "id": "bOjZj8Pjb2zC",
        "outputId": "e56e0272-c2d7-4c7f-beff-49b6b0aa68de"
      },
      "execution_count": 27,
      "outputs": [
        {
          "output_type": "execute_result",
          "data": {
            "text/plain": [
              "4"
            ]
          },
          "metadata": {},
          "execution_count": 27
        }
      ]
    },
    {
      "cell_type": "code",
      "source": [
        "pred=model.predict(x)\n"
      ],
      "metadata": {
        "id": "DnmTUKoCb2vp"
      },
      "execution_count": 28,
      "outputs": []
    },
    {
      "cell_type": "code",
      "source": [
        "pred"
      ],
      "metadata": {
        "colab": {
          "base_uri": "https://localhost:8080/"
        },
        "id": "M8jqG8xTb2sd",
        "outputId": "4c4a3f0b-1a99-4e15-80f7-cb8b886d56fc"
      },
      "execution_count": 29,
      "outputs": [
        {
          "output_type": "execute_result",
          "data": {
            "text/plain": [
              "array([[1., 0., 0., 0., 0.]], dtype=float32)"
            ]
          },
          "metadata": {},
          "execution_count": 29
        }
      ]
    },
    {
      "cell_type": "code",
      "source": [
        "labels=[\"daisy\",\"dandelion\",\"rose\",\"sunflower\",\"tulip\"]"
      ],
      "metadata": {
        "id": "Tc7p1w3pb2hh"
      },
      "execution_count": 30,
      "outputs": []
    },
    {
      "cell_type": "code",
      "source": [
        "np.argmax(pred)"
      ],
      "metadata": {
        "colab": {
          "base_uri": "https://localhost:8080/"
        },
        "id": "2I0zZKnQewnq",
        "outputId": "f67321c4-fb2f-44ce-cefa-03c5ce239de5"
      },
      "execution_count": 31,
      "outputs": [
        {
          "output_type": "execute_result",
          "data": {
            "text/plain": [
              "0"
            ]
          },
          "metadata": {},
          "execution_count": 31
        }
      ]
    },
    {
      "cell_type": "code",
      "source": [
        "labels[2]"
      ],
      "metadata": {
        "colab": {
          "base_uri": "https://localhost:8080/",
          "height": 35
        },
        "id": "osLB4JzTewk9",
        "outputId": "6c5de2c9-2c84-4e58-bc2d-3426c174bc38"
      },
      "execution_count": 32,
      "outputs": [
        {
          "output_type": "execute_result",
          "data": {
            "text/plain": [
              "'rose'"
            ],
            "application/vnd.google.colaboratory.intrinsic+json": {
              "type": "string"
            }
          },
          "metadata": {},
          "execution_count": 32
        }
      ]
    },
    {
      "cell_type": "code",
      "source": [
        "labels[np.argmax(pred)]"
      ],
      "metadata": {
        "colab": {
          "base_uri": "https://localhost:8080/",
          "height": 35
        },
        "id": "_DVeZaXtewFQ",
        "outputId": "7eb5995c-4742-4c53-e619-7e0d98054a4a"
      },
      "execution_count": 33,
      "outputs": [
        {
          "output_type": "execute_result",
          "data": {
            "text/plain": [
              "'daisy'"
            ],
            "application/vnd.google.colaboratory.intrinsic+json": {
              "type": "string"
            }
          },
          "metadata": {},
          "execution_count": 33
        }
      ]
    }
  ]
}