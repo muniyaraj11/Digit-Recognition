{
 "cells": [
  {
   "cell_type": "code",
   "execution_count": 4,
   "id": "7f8623ae",
   "metadata": {},
   "outputs": [
    {
     "name": "stdout",
     "output_type": "stream",
     "text": [
      "1/1 [==============================] - 0s 211ms/step\n",
      "[[6.7148167e-03 3.6236937e-03 1.2793539e-02 7.3965698e-02 3.1315892e-03\n",
      "  2.2746704e-04 2.5199999e-03 4.7140449e-01 4.9540079e-03 4.2066479e-01]]\n"
     ]
    }
   ],
   "source": [
    "#Importing the Keras libraries and packages\n",
    "from tensorflow.keras.models import load_model\n",
    "from PIL import Image #used for manipulating image uploaded by the user.\n",
    "import numpy as np #used for numerrical analysis\n",
    "model = load_model(r'Project Development Phase\\Sprint 2\\models\\project.h5')\n",
    "\n",
    "img = Image.open(\"Project Development Phase\\Sprint 2\\data\\Capture.PNG\").convert(\"L\") # convert image to monochrome\n",
    "img = img.resize( (28, 28) ) # resizing of input image\n",
    "im2arr = np.array(img) #converting to image\n",
    "im2arr = im2arr.reshape(1, 28, 28, 1) #reshaping according to our requirement\n",
    "# Predicting the Test set results\n",
    "y_pred = model.predict(im2arr) #predicting the results\n",
    "print(y_pred)\n"
   ]
  },
  {
   "cell_type": "code",
   "execution_count": 5,
   "id": "402f588a",
   "metadata": {},
   "outputs": [
    {
     "name": "stdout",
     "output_type": "stream",
     "text": [
      "[7]\n"
     ]
    }
   ],
   "source": [
    "import numpy as np\n",
    "print(np.argmax(y_pred, axis=1)) #printing our Labels from first 4 images"
   ]
  },
  {
   "cell_type": "code",
   "execution_count": null,
   "id": "07982ef9",
   "metadata": {},
   "outputs": [],
   "source": []
  }
 ],
 "metadata": {
  "kernelspec": {
   "display_name": "Python 3.10.5 64-bit",
   "language": "python",
   "name": "python3"
  },
  "language_info": {
   "codemirror_mode": {
    "name": "ipython",
    "version": 3
   },
   "file_extension": ".py",
   "mimetype": "text/x-python",
   "name": "python",
   "nbconvert_exporter": "python",
   "pygments_lexer": "ipython3",
   "version": "3.10.5"
  },
  "vscode": {
   "interpreter": {
    "hash": "369f2c481f4da34e4445cda3fffd2e751bd1c4d706f27375911949ba6bb62e1c"
   }
  }
 },
 "nbformat": 4,
 "nbformat_minor": 5
}
